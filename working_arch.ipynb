{
 "cells": [
  {
   "cell_type": "markdown",
   "metadata": {},
   "source": [
    "# TODO: \n",
    "# REVERT BINARY LABELS ENTIRELY TO LOOK FOR IMPROVEMENT IN TEST DATA ACCURACY"
   ]
  },
  {
   "cell_type": "markdown",
   "metadata": {},
   "source": [
    "# Add drop out and make the architecture more complex"
   ]
  },
  {
   "cell_type": "code",
   "execution_count": 2,
   "metadata": {
    "id": "FDpPok9Ksj7I"
   },
   "outputs": [],
   "source": [
    "import numpy as np\n",
    "import nibabel as nib\n",
    "import os\n",
    "import tensorflow as tf\n",
    "from PIL import Image\n",
    "import PIL\n",
    "import skimage.transform as skTrans"
   ]
  },
  {
   "cell_type": "code",
   "execution_count": 12,
   "metadata": {
    "id": "qd1Y5r0cuIyq"
   },
   "outputs": [],
   "source": [
    "aut_path = \"DATASET\\\\AUTISTIC_TRAIN\\\\\"\n",
    "cnt_path = \"DATASET\\\\CONTROL_TRAIN\\\\\""
   ]
  },
  {
   "cell_type": "code",
   "execution_count": 13,
   "metadata": {},
   "outputs": [],
   "source": [
    "test_aut_path = \"DATASET\\\\AUTISTIC_VAL\\\\\"\n",
    "test_cnt_path = \"DATASET\\\\CONTROL_VAL\\\\\""
   ]
  },
  {
   "cell_type": "code",
   "execution_count": 14,
   "metadata": {},
   "outputs": [],
   "source": [
    "def to_arr(path):\n",
    "    return np.array(nib.load(path).dataobj)"
   ]
  },
  {
   "cell_type": "code",
   "execution_count": 15,
   "metadata": {
    "colab": {
     "base_uri": "https://localhost:8080/"
    },
    "id": "1EzJR9RBeitU",
    "outputId": "05c45df4-aace-4655-df17-14b07e573853"
   },
   "outputs": [
    {
     "data": {
      "text/plain": [
       "80"
      ]
     },
     "execution_count": 15,
     "metadata": {},
     "output_type": "execute_result"
    }
   ],
   "source": [
    "len(os.listdir(cnt_path))"
   ]
  },
  {
   "cell_type": "code",
   "execution_count": 117,
   "metadata": {
    "id": "PFWjiYaKuixc"
   },
   "outputs": [],
   "source": [
    "labels = []\n",
    "for i in range(len(os.listdir(aut_path))):\n",
    "    labels.append([1])\n",
    "for i in range(len(os.listdir(cnt_path))):\n",
    "    labels.append([0])\n",
    "labels = np.array(labels)"
   ]
  },
  {
   "cell_type": "code",
   "execution_count": 118,
   "metadata": {
    "colab": {
     "base_uri": "https://localhost:8080/"
    },
    "id": "wUsvBSutIL4V",
    "outputId": "5d37c8d5-0e31-4f61-c606-f0f9b46dd29b"
   },
   "outputs": [
    {
     "data": {
      "text/plain": [
       "(160, 1)"
      ]
     },
     "execution_count": 118,
     "metadata": {},
     "output_type": "execute_result"
    }
   ],
   "source": [
    "labels.shape"
   ]
  },
  {
   "cell_type": "code",
   "execution_count": 22,
   "metadata": {
    "id": "9AjyR5cIusjs"
   },
   "outputs": [
    {
     "name": "stdout",
     "output_type": "stream",
     "text": [
      "10anat.nii.gz\n",
      "11anat.nii.gz\n",
      "12anat.nii.gz\n",
      "13anat.nii.gz\n",
      "14anat.nii.gz\n",
      "15anat.nii.gz\n",
      "16anat.nii.gz\n",
      "17anat.nii.gz\n",
      "18anat.nii.gz\n",
      "19anat.nii.gz\n",
      "1anat.nii.gz\n",
      "20anat.nii.gz\n",
      "21anat.nii.gz\n",
      "22anat.nii.gz\n",
      "23anat.nii.gz\n",
      "24anat.nii.gz\n",
      "25anat.nii.gz\n",
      "26anat.nii.gz\n",
      "27anat.nii.gz\n",
      "28anat.nii.gz\n",
      "29anat.nii.gz\n",
      "2anat.nii.gz\n",
      "30anat.nii.gz\n",
      "31anat.nii.gz\n",
      "32anat.nii.gz\n",
      "33anat.nii.gz\n",
      "34anat.nii.gz\n",
      "35anat.nii.gz\n",
      "36anat.nii.gz\n",
      "37anat.nii.gz\n",
      "38anat.nii.gz\n",
      "39anat.nii.gz\n",
      "3anat.nii.gz\n",
      "40anat.nii.gz\n",
      "41anat.nii.gz\n",
      "42anat.nii.gz\n",
      "43anat.nii.gz\n",
      "44anat.nii.gz\n",
      "45anat.nii.gz\n",
      "46anat.nii.gz\n",
      "47anat.nii.gz\n",
      "48anat.nii.gz\n",
      "49anat.nii.gz\n",
      "4anat.nii.gz\n",
      "50anat.nii.gz\n",
      "51anat.nii.gz\n",
      "52anat.nii.gz\n",
      "53anat.nii.gz\n",
      "54anat.nii.gz\n",
      "55anat.nii.gz\n",
      "56anat.nii.gz\n",
      "57anat.nii.gz\n",
      "58anat.nii.gz\n",
      "59anat.nii.gz\n",
      "5anat.nii.gz\n",
      "60anat.nii.gz\n",
      "61anat.nii.gz\n",
      "62anat.nii.gz\n",
      "63anat.nii.gz\n",
      "64anat.nii.gz\n",
      "65anat.nii.gz\n",
      "66anat.nii.gz\n",
      "67anat.nii.gz\n",
      "68anat.nii.gz\n",
      "69anat.nii.gz\n",
      "6anat.nii.gz\n",
      "70anat.nii.gz\n",
      "71anat.nii.gz\n",
      "72anat.nii.gz\n",
      "73anat.nii.gz\n",
      "74anat.nii.gz\n",
      "75anat.nii.gz\n",
      "76anat.nii.gz\n",
      "77anat.nii.gz\n",
      "78anat.nii.gz\n",
      "79anat.nii.gz\n",
      "7anat.nii.gz\n",
      "80anat.nii.gz\n",
      "8anat.nii.gz\n",
      "9anat.nii.gz\n",
      "10anat.nii.gz\n",
      "11anat.nii.gz\n",
      "12anat.nii.gz\n",
      "13anat.nii.gz\n",
      "14anat.nii.gz\n",
      "15anat.nii.gz\n",
      "16anat.nii.gz\n",
      "17anat.nii.gz\n",
      "18anat.nii.gz\n",
      "19anat.nii.gz\n",
      "1anat.nii.gz\n",
      "20anat.nii.gz\n",
      "21anat.nii.gz\n",
      "22anat.nii.gz\n",
      "23anat.nii.gz\n",
      "24anat.nii.gz\n",
      "25anat.nii.gz\n",
      "26anat.nii.gz\n",
      "27anat.nii.gz\n",
      "28anat.nii.gz\n",
      "29anat.nii.gz\n",
      "2anat.nii.gz\n",
      "30anat.nii.gz\n",
      "31anat.nii.gz\n",
      "32anat.nii.gz\n",
      "33anat.nii.gz\n",
      "34anat.nii.gz\n",
      "35anat.nii.gz\n",
      "36anat.nii.gz\n",
      "37anat.nii.gz\n",
      "38anat.nii.gz\n",
      "39anat.nii.gz\n",
      "3anat.nii.gz\n",
      "40anat.nii.gz\n",
      "41anat.nii.gz\n",
      "42anat.nii.gz\n",
      "43anat.nii.gz\n",
      "44anat.nii.gz\n",
      "45anat.nii.gz\n",
      "46anat.nii.gz\n",
      "47anat.nii.gz\n",
      "48anat.nii.gz\n",
      "49anat.nii.gz\n",
      "4anat.nii.gz\n",
      "50anat.nii.gz\n",
      "51anat.nii.gz\n",
      "52anat.nii.gz\n",
      "53anat.nii.gz\n",
      "54anat.nii.gz\n",
      "55anat.nii.gz\n",
      "56anat.nii.gz\n",
      "57anat.nii.gz\n",
      "58anat.nii.gz\n",
      "59anat.nii.gz\n",
      "5anat.nii.gz\n",
      "60anat.nii.gz\n",
      "61anat.nii.gz\n",
      "62anat.nii.gz\n",
      "63anat.nii.gz\n",
      "64anat.nii.gz\n",
      "65anat.nii.gz\n",
      "66anat.nii.gz\n",
      "67anat.nii.gz\n",
      "68anat.nii.gz\n",
      "69anat.nii.gz\n",
      "6anat.nii.gz\n",
      "70anat.nii.gz\n",
      "71anat.nii.gz\n",
      "72anat.nii.gz\n",
      "73anat.nii.gz\n",
      "74anat.nii.gz\n",
      "75anat.nii.gz\n",
      "76anat.nii.gz\n",
      "77anat.nii.gz\n",
      "78anat.nii.gz\n",
      "79anat.nii.gz\n",
      "7anat.nii.gz\n",
      "80anat.nii.gz\n",
      "8anat.nii.gz\n",
      "9anat.nii.gz\n"
     ]
    }
   ],
   "source": [
    "auts = []\n",
    "cnts = []\n",
    "\n",
    "for i in os.listdir(aut_path):\n",
    "    im = nib.load(aut_path+i).get_fdata()\n",
    "    #arr = to_arr(aut_path+i)\n",
    "    r = skTrans.resize(im, (150,200,150), order=1, preserve_range=True)#.reshape(150,200,150,1)\n",
    "    #print(r.shape)\n",
    "    #break\n",
    "    #if arr.shape[2] != 150:\n",
    "    #    #print(arr.shape)\n",
    "    #    arr = arr[:,:,46:-60]\n",
    "    print(i)\n",
    "    auts.append(r)\n",
    "for i in os.listdir(cnt_path): \n",
    "    #arr = to_arr(cnt_path+i)\n",
    "    #if arr.shape[2] != 150:\n",
    "    #    #print(arr.shape)\n",
    "    #    arr = arr[:,:,46:-60]\n",
    "    #    #print(arr.shape)\n",
    "    im = nib.load(cnt_path+i).get_fdata()\n",
    "    r = skTrans.resize(im, (150,200,150), order=1, preserve_range=True)#.reshape(150,200,150,1)\n",
    "    print(i)\n",
    "    cnts.append(r)\n",
    "    #cnts.append(to_arr(cnt_path+i).reshape(193,256, 256))"
   ]
  },
  {
   "cell_type": "code",
   "execution_count": 24,
   "metadata": {
    "id": "Un5Yff5quzz2"
   },
   "outputs": [],
   "source": [
    "auts = np.array(auts)\n",
    "cnts = np.array(cnts)"
   ]
  },
  {
   "cell_type": "code",
   "execution_count": 25,
   "metadata": {
    "colab": {
     "base_uri": "https://localhost:8080/"
    },
    "id": "nOgVvpm6uvc7",
    "outputId": "2bd5ae72-b9db-47e9-dfc5-2168e04b518e"
   },
   "outputs": [
    {
     "data": {
      "text/plain": [
       "(80, 150, 200, 150)"
      ]
     },
     "execution_count": 25,
     "metadata": {},
     "output_type": "execute_result"
    }
   ],
   "source": [
    "auts.shape"
   ]
  },
  {
   "cell_type": "code",
   "execution_count": 26,
   "metadata": {
    "colab": {
     "base_uri": "https://localhost:8080/"
    },
    "id": "N7hpaUa8uwor",
    "outputId": "a5360911-a63b-4acd-9f24-bffa3ffe87e2"
   },
   "outputs": [
    {
     "data": {
      "text/plain": [
       "(80, 150, 200, 150)"
      ]
     },
     "execution_count": 26,
     "metadata": {},
     "output_type": "execute_result"
    }
   ],
   "source": [
    "cnts.shape"
   ]
  },
  {
   "cell_type": "code",
   "execution_count": 27,
   "metadata": {
    "id": "e5FSyONBuxQE"
   },
   "outputs": [],
   "source": [
    "images = np.concatenate([auts, cnts])"
   ]
  },
  {
   "cell_type": "code",
   "execution_count": 28,
   "metadata": {
    "colab": {
     "base_uri": "https://localhost:8080/"
    },
    "id": "CfYCpnM1H3CE",
    "outputId": "85a2a4e7-fc5b-4877-f704-72656ca4ad3d"
   },
   "outputs": [
    {
     "data": {
      "text/plain": [
       "(160, 150, 200, 150)"
      ]
     },
     "execution_count": 28,
     "metadata": {},
     "output_type": "execute_result"
    }
   ],
   "source": [
    "images.shape"
   ]
  },
  {
   "cell_type": "code",
   "execution_count": 119,
   "metadata": {
    "id": "6owFqjd0Vqi-"
   },
   "outputs": [],
   "source": [
    "model = tf.keras.Sequential([\n",
    "    tf.keras.layers.Conv2D(32, (3,3), padding='same', activation=tf.nn.relu, kernel_regularizer = tf.keras.regularizers.l1( l=0.03),\n",
    "                           input_shape=(150, 200, 150)),\n",
    "    tf.keras.layers.MaxPooling2D((2, 2), strides=2),\n",
    "    tf.keras.layers.Dropout(0.2),\n",
    "    tf.keras.layers.Conv2D(64, (2,2), padding='same', activation=tf.nn.relu, kernel_regularizer = tf.keras.regularizers.l1( l=0.03)),\n",
    "    tf.keras.layers.MaxPooling2D((2, 2), strides=2),\n",
    "    tf.keras.layers.Dropout(0.2),\n",
    "    tf.keras.layers.Flatten(),\n",
    "    tf.keras.layers.Dense(64, activation=tf.nn.relu, kernel_regularizer =tf.keras.regularizers.l1( l=0.01)),\n",
    "    tf.keras.layers.Dense(16, activation=tf.nn.relu),\n",
    "    tf.keras.layers.Dense(2, activation=tf.nn.softmax)\n",
    "])"
   ]
  },
  {
   "cell_type": "code",
   "execution_count": 120,
   "metadata": {
    "id": "IXsDtKjYu4eV"
   },
   "outputs": [],
   "source": [
    "BATCH_SIZE = 4"
   ]
  },
  {
   "cell_type": "code",
   "execution_count": 121,
   "metadata": {
    "id": "8VuPXYf3u6Gc"
   },
   "outputs": [],
   "source": [
    "dataset = tf.data.Dataset.from_tensor_slices( ( images, labels ) )   # tf.constant() does not change error\n",
    "dataset = dataset.repeat().batch(BATCH_SIZE)"
   ]
  },
  {
   "cell_type": "code",
   "execution_count": 122,
   "metadata": {},
   "outputs": [
    {
     "data": {
      "text/plain": [
       "tensorflow.python.data.ops.dataset_ops.BatchDataset"
      ]
     },
     "execution_count": 122,
     "metadata": {},
     "output_type": "execute_result"
    }
   ],
   "source": [
    "type(dataset)"
   ]
  },
  {
   "cell_type": "code",
   "execution_count": 123,
   "metadata": {
    "id": "0Sje3hVTu7L0"
   },
   "outputs": [],
   "source": [
    "model.compile(optimizer='adam',\n",
    "              loss=tf.keras.losses.SparseCategoricalCrossentropy(),\n",
    "              #loss = tf.keras.losses.BinaryCrossentropy(),\n",
    "              #metrics=['accuracy',tf.keras.metrics.Precision(),tf.keras.metrics.Recall()])\n",
    "              #loss = 'binary_crossentropy',\n",
    "              metrics=['accuracy'])\n",
    "#model.compile(loss='binary_crossentropy', optimizer='adam', metrics=['accuracy'])"
   ]
  },
  {
   "cell_type": "code",
   "execution_count": 124,
   "metadata": {
    "colab": {
     "base_uri": "https://localhost:8080/"
    },
    "id": "Q_4nGGhOu8qF",
    "outputId": "34bd7b1c-c36d-47f9-ce4c-20122dd09949"
   },
   "outputs": [
    {
     "name": "stdout",
     "output_type": "stream",
     "text": [
      "Model: \"sequential_7\"\n",
      "_________________________________________________________________\n",
      "Layer (type)                 Output Shape              Param #   \n",
      "=================================================================\n",
      "conv2d_14 (Conv2D)           (None, 150, 200, 32)      43232     \n",
      "_________________________________________________________________\n",
      "max_pooling2d_14 (MaxPooling (None, 75, 100, 32)       0         \n",
      "_________________________________________________________________\n",
      "dropout_10 (Dropout)         (None, 75, 100, 32)       0         \n",
      "_________________________________________________________________\n",
      "conv2d_15 (Conv2D)           (None, 75, 100, 64)       8256      \n",
      "_________________________________________________________________\n",
      "max_pooling2d_15 (MaxPooling (None, 37, 50, 64)        0         \n",
      "_________________________________________________________________\n",
      "dropout_11 (Dropout)         (None, 37, 50, 64)        0         \n",
      "_________________________________________________________________\n",
      "flatten_7 (Flatten)          (None, 118400)            0         \n",
      "_________________________________________________________________\n",
      "dense_21 (Dense)             (None, 64)                7577664   \n",
      "_________________________________________________________________\n",
      "dense_22 (Dense)             (None, 16)                1040      \n",
      "_________________________________________________________________\n",
      "dense_23 (Dense)             (None, 2)                 34        \n",
      "=================================================================\n",
      "Total params: 7,630,226\n",
      "Trainable params: 7,630,226\n",
      "Non-trainable params: 0\n",
      "_________________________________________________________________\n"
     ]
    }
   ],
   "source": [
    "model.summary()"
   ]
  },
  {
   "cell_type": "code",
   "execution_count": 125,
   "metadata": {
    "colab": {
     "base_uri": "https://localhost:8080/"
    },
    "id": "pY_6DmSYu9l8",
    "outputId": "cd1948bd-c703-459e-f98a-9a777904c1ab"
   },
   "outputs": [
    {
     "name": "stdout",
     "output_type": "stream",
     "text": [
      "Epoch 1/5\n",
      "40/40 [==============================] - 24s 602ms/step - loss: 15271.4873 - accuracy: 0.9500\n",
      "Epoch 2/5\n",
      "40/40 [==============================] - 24s 605ms/step - loss: 527889.8125 - accuracy: 0.7937\n",
      "Epoch 3/5\n",
      "40/40 [==============================] - 23s 585ms/step - loss: 341.8436 - accuracy: 0.4250\n",
      "Epoch 4/5\n",
      "40/40 [==============================] - 23s 585ms/step - loss: 292.9622 - accuracy: 0.5375\n",
      "Epoch 5/5\n",
      "40/40 [==============================] - 23s 586ms/step - loss: 274.1297 - accuracy: 0.5750\n"
     ]
    },
    {
     "data": {
      "text/plain": [
       "<tensorflow.python.keras.callbacks.History at 0x1409578e4c0>"
      ]
     },
     "execution_count": 125,
     "metadata": {},
     "output_type": "execute_result"
    }
   ],
   "source": [
    "model.fit(dataset, epochs=5, steps_per_epoch= 160/BATCH_SIZE)"
   ]
  },
  {
   "cell_type": "code",
   "execution_count": 38,
   "metadata": {},
   "outputs": [],
   "source": [
    "aut_test = []\n",
    "cnt_test = []"
   ]
  },
  {
   "cell_type": "code",
   "execution_count": 134,
   "metadata": {},
   "outputs": [
    {
     "name": "stdout",
     "output_type": "stream",
     "text": [
      "100anat.nii.gz\n"
     ]
    },
    {
     "ename": "AttributeError",
     "evalue": "'numpy.ndarray' object has no attribute 'append'",
     "output_type": "error",
     "traceback": [
      "\u001b[1;31m---------------------------------------------------------------------------\u001b[0m",
      "\u001b[1;31mAttributeError\u001b[0m                            Traceback (most recent call last)",
      "\u001b[1;32m<ipython-input-134-d03855ace4e5>\u001b[0m in \u001b[0;36m<module>\u001b[1;34m\u001b[0m\n\u001b[0;32m      3\u001b[0m     \u001b[0mr\u001b[0m \u001b[1;33m=\u001b[0m \u001b[0mskTrans\u001b[0m\u001b[1;33m.\u001b[0m\u001b[0mresize\u001b[0m\u001b[1;33m(\u001b[0m\u001b[0mim\u001b[0m\u001b[1;33m,\u001b[0m \u001b[1;33m(\u001b[0m\u001b[1;36m150\u001b[0m\u001b[1;33m,\u001b[0m\u001b[1;36m200\u001b[0m\u001b[1;33m,\u001b[0m\u001b[1;36m150\u001b[0m\u001b[1;33m)\u001b[0m\u001b[1;33m,\u001b[0m \u001b[0morder\u001b[0m\u001b[1;33m=\u001b[0m\u001b[1;36m1\u001b[0m\u001b[1;33m,\u001b[0m \u001b[0mpreserve_range\u001b[0m\u001b[1;33m=\u001b[0m\u001b[1;32mTrue\u001b[0m\u001b[1;33m)\u001b[0m\u001b[1;31m#.reshape(150,200,150,1)\u001b[0m\u001b[1;33m\u001b[0m\u001b[1;33m\u001b[0m\u001b[0m\n\u001b[0;32m      4\u001b[0m     \u001b[0mprint\u001b[0m\u001b[1;33m(\u001b[0m\u001b[0mi\u001b[0m\u001b[1;33m)\u001b[0m\u001b[1;33m\u001b[0m\u001b[1;33m\u001b[0m\u001b[0m\n\u001b[1;32m----> 5\u001b[1;33m     \u001b[0maut_test\u001b[0m\u001b[1;33m.\u001b[0m\u001b[0mappend\u001b[0m\u001b[1;33m(\u001b[0m\u001b[0mr\u001b[0m\u001b[1;33m)\u001b[0m\u001b[1;33m\u001b[0m\u001b[1;33m\u001b[0m\u001b[0m\n\u001b[0m\u001b[0;32m      6\u001b[0m \u001b[1;32mfor\u001b[0m \u001b[0mi\u001b[0m \u001b[1;32min\u001b[0m \u001b[0mos\u001b[0m\u001b[1;33m.\u001b[0m\u001b[0mlistdir\u001b[0m\u001b[1;33m(\u001b[0m\u001b[0mtest_cnt_path\u001b[0m\u001b[1;33m)\u001b[0m\u001b[1;33m:\u001b[0m\u001b[1;33m\u001b[0m\u001b[1;33m\u001b[0m\u001b[0m\n\u001b[0;32m      7\u001b[0m     \u001b[0mim\u001b[0m \u001b[1;33m=\u001b[0m \u001b[0mnib\u001b[0m\u001b[1;33m.\u001b[0m\u001b[0mload\u001b[0m\u001b[1;33m(\u001b[0m\u001b[0mtest_cnt_path\u001b[0m\u001b[1;33m+\u001b[0m\u001b[0mi\u001b[0m\u001b[1;33m)\u001b[0m\u001b[1;33m.\u001b[0m\u001b[0mget_fdata\u001b[0m\u001b[1;33m(\u001b[0m\u001b[1;33m)\u001b[0m\u001b[1;33m\u001b[0m\u001b[1;33m\u001b[0m\u001b[0m\n",
      "\u001b[1;31mAttributeError\u001b[0m: 'numpy.ndarray' object has no attribute 'append'"
     ]
    }
   ],
   "source": [
    "for i in os.listdir(test_aut_path):\n",
    "    im = nib.load(test_aut_path+i).get_fdata()\n",
    "    r = skTrans.resize(im, (150,200,150), order=1, preserve_range=True)#.reshape(150,200,150,1)\n",
    "    print(i)\n",
    "    aut_test.append(r)\n",
    "for i in os.listdir(test_cnt_path): \n",
    "    im = nib.load(test_cnt_path+i).get_fdata()\n",
    "    r = skTrans.resize(im, (150,200,150), order=1, preserve_range=True)#.reshape(150,200,150,1)\n",
    "    print(i)\n",
    "    cnt_test.append(r)"
   ]
  },
  {
   "cell_type": "code",
   "execution_count": 40,
   "metadata": {},
   "outputs": [],
   "source": [
    "aut_test = np.array(aut_test)"
   ]
  },
  {
   "cell_type": "code",
   "execution_count": 59,
   "metadata": {},
   "outputs": [
    {
     "data": {
      "text/plain": [
       "(21, 150, 200, 150)"
      ]
     },
     "execution_count": 59,
     "metadata": {},
     "output_type": "execute_result"
    }
   ],
   "source": [
    "aut_test.shape"
   ]
  },
  {
   "cell_type": "code",
   "execution_count": 42,
   "metadata": {},
   "outputs": [],
   "source": [
    "cnt_test = np.array(cnt_test)\n"
   ]
  },
  {
   "cell_type": "code",
   "execution_count": 60,
   "metadata": {},
   "outputs": [
    {
     "data": {
      "text/plain": [
       "(21, 150, 200, 150)"
      ]
     },
     "execution_count": 60,
     "metadata": {},
     "output_type": "execute_result"
    }
   ],
   "source": [
    "cnt_test.shape"
   ]
  },
  {
   "cell_type": "code",
   "execution_count": 132,
   "metadata": {},
   "outputs": [
    {
     "name": "stdout",
     "output_type": "stream",
     "text": [
      "0 True\n",
      "1 True\n",
      "2 True\n",
      "3 True\n",
      "4 True\n",
      "5 True\n",
      "6 True\n",
      "7 True\n",
      "8 True\n",
      "9 False\n",
      "10 False\n",
      "11 True\n",
      "12 False\n",
      "13 True\n",
      "14 False\n",
      "15 False\n",
      "16 False\n",
      "17 True\n",
      "18 False\n",
      "19 True\n",
      "20 True\n",
      "14 / 21\n"
     ]
    }
   ],
   "source": [
    "c = 0;\n",
    "for i in range(21):\n",
    "    test = tf.data.Dataset.from_tensors( aut_test[i] )   # tf.constant() does not change error\n",
    "    test = test.batch(1)\n",
    "    r = model.predict(test)\n",
    "    if np.argmax(r) == 0:\n",
    "        c+=1\n",
    "    print(i, np.argmax(r)==0)\n",
    "print(c,'/', 21)"
   ]
  },
  {
   "cell_type": "code",
   "execution_count": 133,
   "metadata": {},
   "outputs": [
    {
     "name": "stdout",
     "output_type": "stream",
     "text": [
      "0 True\n",
      "1 True\n",
      "2 False\n",
      "3 False\n",
      "4 False\n",
      "5 False\n",
      "6 False\n",
      "7 False\n",
      "8 True\n",
      "9 False\n",
      "10 False\n",
      "11 True\n",
      "12 True\n",
      "13 False\n",
      "14 True\n",
      "15 True\n",
      "16 False\n",
      "17 False\n",
      "18 True\n",
      "19 True\n",
      "20 False\n",
      "9 / 21\n"
     ]
    }
   ],
   "source": [
    "c = 0\n",
    "for i in range(21):\n",
    "    test = tf.data.Dataset.from_tensors( cnt_test[i] )   # tf.constant() does not change error\n",
    "    test = test.batch(1)\n",
    "    r = model.predict(test)\n",
    "    if np.argmax(r) == 1:\n",
    "        c+=1\n",
    "    print(i, np.argmax(r)==1)\n",
    "print(c, '/', 21)"
   ]
  },
  {
   "cell_type": "code",
   "execution_count": null,
   "metadata": {},
   "outputs": [],
   "source": []
  }
 ],
 "metadata": {
  "accelerator": "GPU",
  "colab": {
   "collapsed_sections": [],
   "name": "Untitled3.ipynb",
   "provenance": []
  },
  "kernelspec": {
   "display_name": "Python 3",
   "language": "python",
   "name": "python3"
  },
  "language_info": {
   "codemirror_mode": {
    "name": "ipython",
    "version": 3
   },
   "file_extension": ".py",
   "mimetype": "text/x-python",
   "name": "python",
   "nbconvert_exporter": "python",
   "pygments_lexer": "ipython3",
   "version": "3.8.5"
  }
 },
 "nbformat": 4,
 "nbformat_minor": 4
}
