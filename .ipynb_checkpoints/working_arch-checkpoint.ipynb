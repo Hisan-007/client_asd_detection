{
 "cells": [
  {
   "cell_type": "markdown",
   "metadata": {},
   "source": [
    "# TODO: \n",
    "# REVERT BINARY LABELS ENTIRELY TO LOOK FOR IMPROVEMENT IN TEST DATA ACCURACY"
   ]
  },
  {
   "cell_type": "markdown",
   "metadata": {},
   "source": [
    "# Add drop out and make the architecture more complex"
   ]
  },
  {
   "cell_type": "code",
   "execution_count": 2,
   "metadata": {
    "id": "FDpPok9Ksj7I"
   },
   "outputs": [],
   "source": [
    "import numpy as np\n",
    "import nibabel as nib\n",
    "import os\n",
    "import tensorflow as tf\n",
    "from PIL import Image\n",
    "import PIL\n",
    "import skimage.transform as skTrans"
   ]
  },
  {
   "cell_type": "code",
   "execution_count": 3,
   "metadata": {
    "id": "qd1Y5r0cuIyq"
   },
   "outputs": [],
   "source": [
    "aut_path = \"DATASET\\\\AUTISTIC_TRAIN\\\\\"\n",
    "cnt_path = \"DATASET\\\\CONTROL_TRAIN\\\\\""
   ]
  },
  {
   "cell_type": "code",
   "execution_count": 28,
   "metadata": {},
   "outputs": [],
   "source": [
    "test_aut_path = \"DATASET\\\\AUTISTIC_VAL\\\\\"\n",
    "test_cnt_path = \"DATASET\\\\CONTROL_VAL\\\\\""
   ]
  },
  {
   "cell_type": "code",
   "execution_count": 5,
   "metadata": {},
   "outputs": [],
   "source": [
    "def to_arr(path):\n",
    "    return np.array(nib.load(path).dataobj)"
   ]
  },
  {
   "cell_type": "code",
   "execution_count": 6,
   "metadata": {
    "colab": {
     "base_uri": "https://localhost:8080/"
    },
    "id": "1EzJR9RBeitU",
    "outputId": "05c45df4-aace-4655-df17-14b07e573853"
   },
   "outputs": [
    {
     "data": {
      "text/plain": [
       "80"
      ]
     },
     "execution_count": 6,
     "metadata": {},
     "output_type": "execute_result"
    }
   ],
   "source": [
    "len(os.listdir(cnt_path))"
   ]
  },
  {
   "cell_type": "code",
   "execution_count": 7,
   "metadata": {
    "id": "PFWjiYaKuixc"
   },
   "outputs": [],
   "source": [
    "labels = []\n",
    "for i in range(len(os.listdir(aut_path))):\n",
    "    labels.append(0)\n",
    "for i in range(len(os.listdir(cnt_path))):\n",
    "    labels.append(1)\n",
    "labels = np.array(labels)"
   ]
  },
  {
   "cell_type": "code",
   "execution_count": 8,
   "metadata": {
    "colab": {
     "base_uri": "https://localhost:8080/"
    },
    "id": "wUsvBSutIL4V",
    "outputId": "5d37c8d5-0e31-4f61-c606-f0f9b46dd29b"
   },
   "outputs": [
    {
     "data": {
      "text/plain": [
       "(160,)"
      ]
     },
     "execution_count": 8,
     "metadata": {},
     "output_type": "execute_result"
    }
   ],
   "source": [
    "labels.shape"
   ]
  },
  {
   "cell_type": "code",
   "execution_count": 9,
   "metadata": {},
   "outputs": [
    {
     "data": {
      "text/plain": [
       "(256, 175, 256)"
      ]
     },
     "execution_count": 9,
     "metadata": {},
     "output_type": "execute_result"
    }
   ],
   "source": [
    "img = to_arr(aut_path+'2anat.nii.gz')\n",
    "img.shape"
   ]
  },
  {
   "cell_type": "code",
   "execution_count": 10,
   "metadata": {},
   "outputs": [
    {
     "data": {
      "text/plain": [
       "(150, 200, 256)"
      ]
     },
     "execution_count": 10,
     "metadata": {},
     "output_type": "execute_result"
    }
   ],
   "source": [
    "tf.image.resize(img, [150,200]).numpy().shape"
   ]
  },
  {
   "cell_type": "code",
   "execution_count": 11,
   "metadata": {
    "id": "9AjyR5cIusjs"
   },
   "outputs": [
    {
     "name": "stdout",
     "output_type": "stream",
     "text": [
      "10anat.nii.gz\n",
      "11anat.nii.gz\n",
      "12anat.nii.gz\n",
      "13anat.nii.gz\n",
      "14anat.nii.gz\n",
      "15anat.nii.gz\n",
      "16anat.nii.gz\n",
      "17anat.nii.gz\n",
      "18anat.nii.gz\n",
      "19anat.nii.gz\n",
      "1anat.nii.gz\n",
      "20anat.nii.gz\n",
      "21anat.nii.gz\n",
      "22anat.nii.gz\n",
      "23anat.nii.gz\n",
      "24anat.nii.gz\n",
      "25anat.nii.gz\n",
      "26anat.nii.gz\n",
      "27anat.nii.gz\n",
      "28anat.nii.gz\n",
      "29anat.nii.gz\n",
      "2anat.nii.gz\n",
      "30anat.nii.gz\n",
      "31anat.nii.gz\n",
      "32anat.nii.gz\n",
      "33anat.nii.gz\n",
      "34anat.nii.gz\n",
      "35anat.nii.gz\n",
      "36anat.nii.gz\n",
      "37anat.nii.gz\n",
      "38anat.nii.gz\n",
      "39anat.nii.gz\n",
      "3anat.nii.gz\n",
      "40anat.nii.gz\n",
      "41anat.nii.gz\n",
      "42anat.nii.gz\n",
      "43anat.nii.gz\n",
      "44anat.nii.gz\n",
      "45anat.nii.gz\n",
      "46anat.nii.gz\n",
      "47anat.nii.gz\n",
      "48anat.nii.gz\n",
      "49anat.nii.gz\n",
      "4anat.nii.gz\n",
      "50anat.nii.gz\n",
      "51anat.nii.gz\n",
      "52anat.nii.gz\n",
      "53anat.nii.gz\n",
      "54anat.nii.gz\n",
      "55anat.nii.gz\n",
      "56anat.nii.gz\n",
      "57anat.nii.gz\n",
      "58anat.nii.gz\n",
      "59anat.nii.gz\n",
      "5anat.nii.gz\n",
      "60anat.nii.gz\n",
      "61anat.nii.gz\n",
      "62anat.nii.gz\n",
      "63anat.nii.gz\n",
      "64anat.nii.gz\n",
      "65anat.nii.gz\n",
      "66anat.nii.gz\n",
      "67anat.nii.gz\n",
      "68anat.nii.gz\n",
      "69anat.nii.gz\n",
      "6anat.nii.gz\n",
      "70anat.nii.gz\n",
      "71anat.nii.gz\n",
      "72anat.nii.gz\n",
      "73anat.nii.gz\n",
      "74anat.nii.gz\n",
      "75anat.nii.gz\n",
      "76anat.nii.gz\n",
      "77anat.nii.gz\n",
      "78anat.nii.gz\n",
      "79anat.nii.gz\n",
      "7anat.nii.gz\n",
      "80anat.nii.gz\n",
      "8anat.nii.gz\n",
      "9anat.nii.gz\n",
      "10anat.nii.gz\n",
      "11anat.nii.gz\n",
      "12anat.nii.gz\n",
      "13anat.nii.gz\n",
      "14anat.nii.gz\n",
      "15anat.nii.gz\n",
      "16anat.nii.gz\n",
      "17anat.nii.gz\n",
      "18anat.nii.gz\n",
      "19anat.nii.gz\n",
      "1anat.nii.gz\n",
      "20anat.nii.gz\n",
      "21anat.nii.gz\n",
      "22anat.nii.gz\n",
      "23anat.nii.gz\n",
      "24anat.nii.gz\n",
      "25anat.nii.gz\n",
      "26anat.nii.gz\n",
      "27anat.nii.gz\n",
      "28anat.nii.gz\n",
      "29anat.nii.gz\n",
      "2anat.nii.gz\n",
      "30anat.nii.gz\n",
      "31anat.nii.gz\n",
      "32anat.nii.gz\n",
      "33anat.nii.gz\n",
      "34anat.nii.gz\n",
      "35anat.nii.gz\n",
      "36anat.nii.gz\n",
      "37anat.nii.gz\n",
      "38anat.nii.gz\n",
      "39anat.nii.gz\n",
      "3anat.nii.gz\n",
      "40anat.nii.gz\n",
      "41anat.nii.gz\n",
      "42anat.nii.gz\n",
      "43anat.nii.gz\n",
      "44anat.nii.gz\n",
      "45anat.nii.gz\n",
      "46anat.nii.gz\n",
      "47anat.nii.gz\n",
      "48anat.nii.gz\n",
      "49anat.nii.gz\n",
      "4anat.nii.gz\n",
      "50anat.nii.gz\n",
      "51anat.nii.gz\n",
      "52anat.nii.gz\n",
      "53anat.nii.gz\n",
      "54anat.nii.gz\n",
      "55anat.nii.gz\n",
      "56anat.nii.gz\n",
      "57anat.nii.gz\n",
      "58anat.nii.gz\n",
      "59anat.nii.gz\n",
      "5anat.nii.gz\n",
      "60anat.nii.gz\n",
      "61anat.nii.gz\n",
      "62anat.nii.gz\n",
      "63anat.nii.gz\n",
      "64anat.nii.gz\n",
      "65anat.nii.gz\n",
      "66anat.nii.gz\n",
      "67anat.nii.gz\n",
      "68anat.nii.gz\n",
      "69anat.nii.gz\n",
      "6anat.nii.gz\n",
      "70anat.nii.gz\n",
      "71anat.nii.gz\n",
      "72anat.nii.gz\n",
      "73anat.nii.gz\n",
      "74anat.nii.gz\n",
      "75anat.nii.gz\n",
      "76anat.nii.gz\n",
      "77anat.nii.gz\n",
      "78anat.nii.gz\n",
      "79anat.nii.gz\n",
      "7anat.nii.gz\n",
      "80anat.nii.gz\n",
      "8anat.nii.gz\n",
      "9anat.nii.gz\n"
     ]
    }
   ],
   "source": [
    "auts = []\n",
    "cnts = []\n",
    "\n",
    "for i in os.listdir(aut_path):\n",
    "    im = nib.load(aut_path+i).get_fdata()\n",
    "    #arr = to_arr(aut_path+i)\n",
    "    r = skTrans.resize(im, (150,200,150), order=1, preserve_range=True)#.reshape(150,200,150,1)\n",
    "    #print(r.shape)\n",
    "    #break\n",
    "    #if arr.shape[2] != 150:\n",
    "    #    #print(arr.shape)\n",
    "    #    arr = arr[:,:,46:-60]\n",
    "    print(i)\n",
    "    auts.append(r)\n",
    "for i in os.listdir(cnt_path): \n",
    "    #arr = to_arr(cnt_path+i)\n",
    "    #if arr.shape[2] != 150:\n",
    "    #    #print(arr.shape)\n",
    "    #    arr = arr[:,:,46:-60]\n",
    "    #    #print(arr.shape)\n",
    "    im = nib.load(cnt_path+i).get_fdata()\n",
    "    r = skTrans.resize(im, (150,200,150), order=1, preserve_range=True)#.reshape(150,200,150,1)\n",
    "    print(i)\n",
    "    cnts.append(r)\n",
    "    #cnts.append(to_arr(cnt_path+i).reshape(193,256, 256))"
   ]
  },
  {
   "cell_type": "code",
   "execution_count": 12,
   "metadata": {
    "id": "Un5Yff5quzz2"
   },
   "outputs": [],
   "source": [
    "auts = np.array(auts)\n",
    "cnts = np.array(cnts)"
   ]
  },
  {
   "cell_type": "code",
   "execution_count": 16,
   "metadata": {
    "colab": {
     "base_uri": "https://localhost:8080/"
    },
    "id": "nOgVvpm6uvc7",
    "outputId": "2bd5ae72-b9db-47e9-dfc5-2168e04b518e"
   },
   "outputs": [
    {
     "data": {
      "text/plain": [
       "(80, 150, 200, 150)"
      ]
     },
     "execution_count": 16,
     "metadata": {},
     "output_type": "execute_result"
    }
   ],
   "source": [
    "auts.shape"
   ]
  },
  {
   "cell_type": "code",
   "execution_count": 17,
   "metadata": {
    "colab": {
     "base_uri": "https://localhost:8080/"
    },
    "id": "N7hpaUa8uwor",
    "outputId": "a5360911-a63b-4acd-9f24-bffa3ffe87e2"
   },
   "outputs": [
    {
     "data": {
      "text/plain": [
       "(80, 150, 200, 150)"
      ]
     },
     "execution_count": 17,
     "metadata": {},
     "output_type": "execute_result"
    }
   ],
   "source": [
    "cnts.shape"
   ]
  },
  {
   "cell_type": "code",
   "execution_count": 18,
   "metadata": {
    "id": "e5FSyONBuxQE"
   },
   "outputs": [],
   "source": [
    "images = np.concatenate([auts, cnts])"
   ]
  },
  {
   "cell_type": "code",
   "execution_count": 19,
   "metadata": {
    "colab": {
     "base_uri": "https://localhost:8080/"
    },
    "id": "CfYCpnM1H3CE",
    "outputId": "85a2a4e7-fc5b-4877-f704-72656ca4ad3d"
   },
   "outputs": [
    {
     "data": {
      "text/plain": [
       "(160, 150, 200, 150)"
      ]
     },
     "execution_count": 19,
     "metadata": {},
     "output_type": "execute_result"
    }
   ],
   "source": [
    "images.shape"
   ]
  },
  {
   "cell_type": "code",
   "execution_count": 144,
   "metadata": {
    "id": "6owFqjd0Vqi-"
   },
   "outputs": [],
   "source": [
    "model = tf.keras.Sequential([\n",
    "    tf.keras.layers.Conv2D(32, (3,3), padding='same', activation=tf.nn.relu, kernel_regularizer = tf.keras.regularizers.l1( l=0.01),\n",
    "                           input_shape=(150, 200, 150)),\n",
    "    tf.keras.layers.MaxPooling2D((2, 2), strides=2),\n",
    "    tf.keras.layers.Conv2D(64, (3,3), padding='same', activation=tf.nn.relu, kernel_regularizer = tf.keras.regularizers.l1( l=0.01)),\n",
    "    tf.keras.layers.MaxPooling2D((3, 3), strides=2),\n",
    "    tf.keras.layers.Flatten(),\n",
    "    tf.keras.layers.Dense(64, activation=tf.nn.relu, kernel_regularizer =tf.keras.regularizers.l1( l=0.01)),\n",
    "    tf.keras.layers.Dense(16, activation=tf.nn.relu),\n",
    "    tf.keras.layers.Dense(2, activation=tf.nn.softmax)\n",
    "])"
   ]
  },
  {
   "cell_type": "code",
   "execution_count": 145,
   "metadata": {
    "id": "IXsDtKjYu4eV"
   },
   "outputs": [],
   "source": [
    "BATCH_SIZE = 8"
   ]
  },
  {
   "cell_type": "code",
   "execution_count": 146,
   "metadata": {
    "id": "8VuPXYf3u6Gc"
   },
   "outputs": [],
   "source": [
    "dataset = tf.data.Dataset.from_tensor_slices( ( images, labels ) )   # tf.constant() does not change error\n",
    "dataset = dataset.repeat().batch(BATCH_SIZE)"
   ]
  },
  {
   "cell_type": "code",
   "execution_count": 147,
   "metadata": {},
   "outputs": [
    {
     "data": {
      "text/plain": [
       "tensorflow.python.data.ops.dataset_ops.BatchDataset"
      ]
     },
     "execution_count": 147,
     "metadata": {},
     "output_type": "execute_result"
    }
   ],
   "source": [
    "type(dataset)"
   ]
  },
  {
   "cell_type": "code",
   "execution_count": 148,
   "metadata": {
    "id": "0Sje3hVTu7L0"
   },
   "outputs": [],
   "source": [
    "model.compile(optimizer='adam',\n",
    "              loss=tf.keras.losses.SparseCategoricalCrossentropy(),\n",
    "              #metrics=['accuracy',tf.keras.metrics.Precision(),tf.keras.metrics.Recall()])\n",
    "              #loss = 'binary_crossentropy',\n",
    "              metrics=['accuracy'])"
   ]
  },
  {
   "cell_type": "code",
   "execution_count": 149,
   "metadata": {
    "colab": {
     "base_uri": "https://localhost:8080/"
    },
    "id": "Q_4nGGhOu8qF",
    "outputId": "34bd7b1c-c36d-47f9-ce4c-20122dd09949"
   },
   "outputs": [
    {
     "name": "stdout",
     "output_type": "stream",
     "text": [
      "Model: \"sequential_8\"\n",
      "_________________________________________________________________\n",
      "Layer (type)                 Output Shape              Param #   \n",
      "=================================================================\n",
      "conv2d_9 (Conv2D)            (None, 150, 200, 32)      43232     \n",
      "_________________________________________________________________\n",
      "max_pooling2d_9 (MaxPooling2 (None, 75, 100, 32)       0         \n",
      "_________________________________________________________________\n",
      "conv2d_10 (Conv2D)           (None, 75, 100, 64)       18496     \n",
      "_________________________________________________________________\n",
      "max_pooling2d_10 (MaxPooling (None, 37, 49, 64)        0         \n",
      "_________________________________________________________________\n",
      "flatten_8 (Flatten)          (None, 116032)            0         \n",
      "_________________________________________________________________\n",
      "dense_22 (Dense)             (None, 32)                3713056   \n",
      "_________________________________________________________________\n",
      "dense_23 (Dense)             (None, 16)                528       \n",
      "_________________________________________________________________\n",
      "dense_24 (Dense)             (None, 2)                 34        \n",
      "=================================================================\n",
      "Total params: 3,775,346\n",
      "Trainable params: 3,775,346\n",
      "Non-trainable params: 0\n",
      "_________________________________________________________________\n"
     ]
    }
   ],
   "source": [
    "model.summary()"
   ]
  },
  {
   "cell_type": "code",
   "execution_count": 150,
   "metadata": {
    "colab": {
     "base_uri": "https://localhost:8080/"
    },
    "id": "pY_6DmSYu9l8",
    "outputId": "cd1948bd-c703-459e-f98a-9a777904c1ab"
   },
   "outputs": [
    {
     "name": "stdout",
     "output_type": "stream",
     "text": [
      "Epoch 1/5\n",
      "17/20 [========================>.....] - ETA: 12s - loss: 1253489.0000 - accuracy: 0.8235"
     ]
    },
    {
     "ename": "KeyboardInterrupt",
     "evalue": "",
     "output_type": "error",
     "traceback": [
      "\u001b[1;31m---------------------------------------------------------------------------\u001b[0m",
      "\u001b[1;31mKeyboardInterrupt\u001b[0m                         Traceback (most recent call last)",
      "\u001b[1;32m<ipython-input-150-596affb92cf2>\u001b[0m in \u001b[0;36m<module>\u001b[1;34m\u001b[0m\n\u001b[1;32m----> 1\u001b[1;33m \u001b[0mmodel\u001b[0m\u001b[1;33m.\u001b[0m\u001b[0mfit\u001b[0m\u001b[1;33m(\u001b[0m\u001b[0mdataset\u001b[0m\u001b[1;33m,\u001b[0m \u001b[0mepochs\u001b[0m\u001b[1;33m=\u001b[0m\u001b[1;36m5\u001b[0m\u001b[1;33m,\u001b[0m \u001b[0msteps_per_epoch\u001b[0m\u001b[1;33m=\u001b[0m \u001b[1;36m160\u001b[0m\u001b[1;33m/\u001b[0m\u001b[1;36m8\u001b[0m\u001b[1;33m)\u001b[0m\u001b[1;33m\u001b[0m\u001b[1;33m\u001b[0m\u001b[0m\n\u001b[0m",
      "\u001b[1;32mE:\\IDES\\Anaconda\\Installation\\lib\\site-packages\\tensorflow\\python\\keras\\engine\\training.py\u001b[0m in \u001b[0;36m_method_wrapper\u001b[1;34m(self, *args, **kwargs)\u001b[0m\n\u001b[0;32m    106\u001b[0m   \u001b[1;32mdef\u001b[0m \u001b[0m_method_wrapper\u001b[0m\u001b[1;33m(\u001b[0m\u001b[0mself\u001b[0m\u001b[1;33m,\u001b[0m \u001b[1;33m*\u001b[0m\u001b[0margs\u001b[0m\u001b[1;33m,\u001b[0m \u001b[1;33m**\u001b[0m\u001b[0mkwargs\u001b[0m\u001b[1;33m)\u001b[0m\u001b[1;33m:\u001b[0m\u001b[1;33m\u001b[0m\u001b[1;33m\u001b[0m\u001b[0m\n\u001b[0;32m    107\u001b[0m     \u001b[1;32mif\u001b[0m \u001b[1;32mnot\u001b[0m \u001b[0mself\u001b[0m\u001b[1;33m.\u001b[0m\u001b[0m_in_multi_worker_mode\u001b[0m\u001b[1;33m(\u001b[0m\u001b[1;33m)\u001b[0m\u001b[1;33m:\u001b[0m  \u001b[1;31m# pylint: disable=protected-access\u001b[0m\u001b[1;33m\u001b[0m\u001b[1;33m\u001b[0m\u001b[0m\n\u001b[1;32m--> 108\u001b[1;33m       \u001b[1;32mreturn\u001b[0m \u001b[0mmethod\u001b[0m\u001b[1;33m(\u001b[0m\u001b[0mself\u001b[0m\u001b[1;33m,\u001b[0m \u001b[1;33m*\u001b[0m\u001b[0margs\u001b[0m\u001b[1;33m,\u001b[0m \u001b[1;33m**\u001b[0m\u001b[0mkwargs\u001b[0m\u001b[1;33m)\u001b[0m\u001b[1;33m\u001b[0m\u001b[1;33m\u001b[0m\u001b[0m\n\u001b[0m\u001b[0;32m    109\u001b[0m \u001b[1;33m\u001b[0m\u001b[0m\n\u001b[0;32m    110\u001b[0m     \u001b[1;31m# Running inside `run_distribute_coordinator` already.\u001b[0m\u001b[1;33m\u001b[0m\u001b[1;33m\u001b[0m\u001b[1;33m\u001b[0m\u001b[0m\n",
      "\u001b[1;32mE:\\IDES\\Anaconda\\Installation\\lib\\site-packages\\tensorflow\\python\\keras\\engine\\training.py\u001b[0m in \u001b[0;36mfit\u001b[1;34m(self, x, y, batch_size, epochs, verbose, callbacks, validation_split, validation_data, shuffle, class_weight, sample_weight, initial_epoch, steps_per_epoch, validation_steps, validation_batch_size, validation_freq, max_queue_size, workers, use_multiprocessing)\u001b[0m\n\u001b[0;32m   1096\u001b[0m                 batch_size=batch_size):\n\u001b[0;32m   1097\u001b[0m               \u001b[0mcallbacks\u001b[0m\u001b[1;33m.\u001b[0m\u001b[0mon_train_batch_begin\u001b[0m\u001b[1;33m(\u001b[0m\u001b[0mstep\u001b[0m\u001b[1;33m)\u001b[0m\u001b[1;33m\u001b[0m\u001b[1;33m\u001b[0m\u001b[0m\n\u001b[1;32m-> 1098\u001b[1;33m               \u001b[0mtmp_logs\u001b[0m \u001b[1;33m=\u001b[0m \u001b[0mtrain_function\u001b[0m\u001b[1;33m(\u001b[0m\u001b[0miterator\u001b[0m\u001b[1;33m)\u001b[0m\u001b[1;33m\u001b[0m\u001b[1;33m\u001b[0m\u001b[0m\n\u001b[0m\u001b[0;32m   1099\u001b[0m               \u001b[1;32mif\u001b[0m \u001b[0mdata_handler\u001b[0m\u001b[1;33m.\u001b[0m\u001b[0mshould_sync\u001b[0m\u001b[1;33m:\u001b[0m\u001b[1;33m\u001b[0m\u001b[1;33m\u001b[0m\u001b[0m\n\u001b[0;32m   1100\u001b[0m                 \u001b[0mcontext\u001b[0m\u001b[1;33m.\u001b[0m\u001b[0masync_wait\u001b[0m\u001b[1;33m(\u001b[0m\u001b[1;33m)\u001b[0m\u001b[1;33m\u001b[0m\u001b[1;33m\u001b[0m\u001b[0m\n",
      "\u001b[1;32mE:\\IDES\\Anaconda\\Installation\\lib\\site-packages\\tensorflow\\python\\eager\\def_function.py\u001b[0m in \u001b[0;36m__call__\u001b[1;34m(self, *args, **kwds)\u001b[0m\n\u001b[0;32m    778\u001b[0m       \u001b[1;32melse\u001b[0m\u001b[1;33m:\u001b[0m\u001b[1;33m\u001b[0m\u001b[1;33m\u001b[0m\u001b[0m\n\u001b[0;32m    779\u001b[0m         \u001b[0mcompiler\u001b[0m \u001b[1;33m=\u001b[0m \u001b[1;34m\"nonXla\"\u001b[0m\u001b[1;33m\u001b[0m\u001b[1;33m\u001b[0m\u001b[0m\n\u001b[1;32m--> 780\u001b[1;33m         \u001b[0mresult\u001b[0m \u001b[1;33m=\u001b[0m \u001b[0mself\u001b[0m\u001b[1;33m.\u001b[0m\u001b[0m_call\u001b[0m\u001b[1;33m(\u001b[0m\u001b[1;33m*\u001b[0m\u001b[0margs\u001b[0m\u001b[1;33m,\u001b[0m \u001b[1;33m**\u001b[0m\u001b[0mkwds\u001b[0m\u001b[1;33m)\u001b[0m\u001b[1;33m\u001b[0m\u001b[1;33m\u001b[0m\u001b[0m\n\u001b[0m\u001b[0;32m    781\u001b[0m \u001b[1;33m\u001b[0m\u001b[0m\n\u001b[0;32m    782\u001b[0m       \u001b[0mnew_tracing_count\u001b[0m \u001b[1;33m=\u001b[0m \u001b[0mself\u001b[0m\u001b[1;33m.\u001b[0m\u001b[0m_get_tracing_count\u001b[0m\u001b[1;33m(\u001b[0m\u001b[1;33m)\u001b[0m\u001b[1;33m\u001b[0m\u001b[1;33m\u001b[0m\u001b[0m\n",
      "\u001b[1;32mE:\\IDES\\Anaconda\\Installation\\lib\\site-packages\\tensorflow\\python\\eager\\def_function.py\u001b[0m in \u001b[0;36m_call\u001b[1;34m(self, *args, **kwds)\u001b[0m\n\u001b[0;32m    805\u001b[0m       \u001b[1;31m# In this case we have created variables on the first call, so we run the\u001b[0m\u001b[1;33m\u001b[0m\u001b[1;33m\u001b[0m\u001b[1;33m\u001b[0m\u001b[0m\n\u001b[0;32m    806\u001b[0m       \u001b[1;31m# defunned version which is guaranteed to never create variables.\u001b[0m\u001b[1;33m\u001b[0m\u001b[1;33m\u001b[0m\u001b[1;33m\u001b[0m\u001b[0m\n\u001b[1;32m--> 807\u001b[1;33m       \u001b[1;32mreturn\u001b[0m \u001b[0mself\u001b[0m\u001b[1;33m.\u001b[0m\u001b[0m_stateless_fn\u001b[0m\u001b[1;33m(\u001b[0m\u001b[1;33m*\u001b[0m\u001b[0margs\u001b[0m\u001b[1;33m,\u001b[0m \u001b[1;33m**\u001b[0m\u001b[0mkwds\u001b[0m\u001b[1;33m)\u001b[0m  \u001b[1;31m# pylint: disable=not-callable\u001b[0m\u001b[1;33m\u001b[0m\u001b[1;33m\u001b[0m\u001b[0m\n\u001b[0m\u001b[0;32m    808\u001b[0m     \u001b[1;32melif\u001b[0m \u001b[0mself\u001b[0m\u001b[1;33m.\u001b[0m\u001b[0m_stateful_fn\u001b[0m \u001b[1;32mis\u001b[0m \u001b[1;32mnot\u001b[0m \u001b[1;32mNone\u001b[0m\u001b[1;33m:\u001b[0m\u001b[1;33m\u001b[0m\u001b[1;33m\u001b[0m\u001b[0m\n\u001b[0;32m    809\u001b[0m       \u001b[1;31m# Release the lock early so that multiple threads can perform the call\u001b[0m\u001b[1;33m\u001b[0m\u001b[1;33m\u001b[0m\u001b[1;33m\u001b[0m\u001b[0m\n",
      "\u001b[1;32mE:\\IDES\\Anaconda\\Installation\\lib\\site-packages\\tensorflow\\python\\eager\\function.py\u001b[0m in \u001b[0;36m__call__\u001b[1;34m(self, *args, **kwargs)\u001b[0m\n\u001b[0;32m   2827\u001b[0m     \u001b[1;32mwith\u001b[0m \u001b[0mself\u001b[0m\u001b[1;33m.\u001b[0m\u001b[0m_lock\u001b[0m\u001b[1;33m:\u001b[0m\u001b[1;33m\u001b[0m\u001b[1;33m\u001b[0m\u001b[0m\n\u001b[0;32m   2828\u001b[0m       \u001b[0mgraph_function\u001b[0m\u001b[1;33m,\u001b[0m \u001b[0margs\u001b[0m\u001b[1;33m,\u001b[0m \u001b[0mkwargs\u001b[0m \u001b[1;33m=\u001b[0m \u001b[0mself\u001b[0m\u001b[1;33m.\u001b[0m\u001b[0m_maybe_define_function\u001b[0m\u001b[1;33m(\u001b[0m\u001b[0margs\u001b[0m\u001b[1;33m,\u001b[0m \u001b[0mkwargs\u001b[0m\u001b[1;33m)\u001b[0m\u001b[1;33m\u001b[0m\u001b[1;33m\u001b[0m\u001b[0m\n\u001b[1;32m-> 2829\u001b[1;33m     \u001b[1;32mreturn\u001b[0m \u001b[0mgraph_function\u001b[0m\u001b[1;33m.\u001b[0m\u001b[0m_filtered_call\u001b[0m\u001b[1;33m(\u001b[0m\u001b[0margs\u001b[0m\u001b[1;33m,\u001b[0m \u001b[0mkwargs\u001b[0m\u001b[1;33m)\u001b[0m  \u001b[1;31m# pylint: disable=protected-access\u001b[0m\u001b[1;33m\u001b[0m\u001b[1;33m\u001b[0m\u001b[0m\n\u001b[0m\u001b[0;32m   2830\u001b[0m \u001b[1;33m\u001b[0m\u001b[0m\n\u001b[0;32m   2831\u001b[0m   \u001b[1;33m@\u001b[0m\u001b[0mproperty\u001b[0m\u001b[1;33m\u001b[0m\u001b[1;33m\u001b[0m\u001b[0m\n",
      "\u001b[1;32mE:\\IDES\\Anaconda\\Installation\\lib\\site-packages\\tensorflow\\python\\eager\\function.py\u001b[0m in \u001b[0;36m_filtered_call\u001b[1;34m(self, args, kwargs, cancellation_manager)\u001b[0m\n\u001b[0;32m   1841\u001b[0m       \u001b[0;31m`\u001b[0m\u001b[0margs\u001b[0m\u001b[0;31m`\u001b[0m \u001b[1;32mand\u001b[0m\u001b[0;31m \u001b[0m\u001b[0;31m`\u001b[0m\u001b[0mkwargs\u001b[0m\u001b[0;31m`\u001b[0m\u001b[1;33m.\u001b[0m\u001b[1;33m\u001b[0m\u001b[1;33m\u001b[0m\u001b[0m\n\u001b[0;32m   1842\u001b[0m     \"\"\"\n\u001b[1;32m-> 1843\u001b[1;33m     return self._call_flat(\n\u001b[0m\u001b[0;32m   1844\u001b[0m         [t for t in nest.flatten((args, kwargs), expand_composites=True)\n\u001b[0;32m   1845\u001b[0m          if isinstance(t, (ops.Tensor,\n",
      "\u001b[1;32mE:\\IDES\\Anaconda\\Installation\\lib\\site-packages\\tensorflow\\python\\eager\\function.py\u001b[0m in \u001b[0;36m_call_flat\u001b[1;34m(self, args, captured_inputs, cancellation_manager)\u001b[0m\n\u001b[0;32m   1921\u001b[0m         and executing_eagerly):\n\u001b[0;32m   1922\u001b[0m       \u001b[1;31m# No tape is watching; skip to running the function.\u001b[0m\u001b[1;33m\u001b[0m\u001b[1;33m\u001b[0m\u001b[1;33m\u001b[0m\u001b[0m\n\u001b[1;32m-> 1923\u001b[1;33m       return self._build_call_outputs(self._inference_function.call(\n\u001b[0m\u001b[0;32m   1924\u001b[0m           ctx, args, cancellation_manager=cancellation_manager))\n\u001b[0;32m   1925\u001b[0m     forward_backward = self._select_forward_and_backward_functions(\n",
      "\u001b[1;32mE:\\IDES\\Anaconda\\Installation\\lib\\site-packages\\tensorflow\\python\\eager\\function.py\u001b[0m in \u001b[0;36mcall\u001b[1;34m(self, ctx, args, cancellation_manager)\u001b[0m\n\u001b[0;32m    543\u001b[0m       \u001b[1;32mwith\u001b[0m \u001b[0m_InterpolateFunctionError\u001b[0m\u001b[1;33m(\u001b[0m\u001b[0mself\u001b[0m\u001b[1;33m)\u001b[0m\u001b[1;33m:\u001b[0m\u001b[1;33m\u001b[0m\u001b[1;33m\u001b[0m\u001b[0m\n\u001b[0;32m    544\u001b[0m         \u001b[1;32mif\u001b[0m \u001b[0mcancellation_manager\u001b[0m \u001b[1;32mis\u001b[0m \u001b[1;32mNone\u001b[0m\u001b[1;33m:\u001b[0m\u001b[1;33m\u001b[0m\u001b[1;33m\u001b[0m\u001b[0m\n\u001b[1;32m--> 545\u001b[1;33m           outputs = execute.execute(\n\u001b[0m\u001b[0;32m    546\u001b[0m               \u001b[0mstr\u001b[0m\u001b[1;33m(\u001b[0m\u001b[0mself\u001b[0m\u001b[1;33m.\u001b[0m\u001b[0msignature\u001b[0m\u001b[1;33m.\u001b[0m\u001b[0mname\u001b[0m\u001b[1;33m)\u001b[0m\u001b[1;33m,\u001b[0m\u001b[1;33m\u001b[0m\u001b[1;33m\u001b[0m\u001b[0m\n\u001b[0;32m    547\u001b[0m               \u001b[0mnum_outputs\u001b[0m\u001b[1;33m=\u001b[0m\u001b[0mself\u001b[0m\u001b[1;33m.\u001b[0m\u001b[0m_num_outputs\u001b[0m\u001b[1;33m,\u001b[0m\u001b[1;33m\u001b[0m\u001b[1;33m\u001b[0m\u001b[0m\n",
      "\u001b[1;32mE:\\IDES\\Anaconda\\Installation\\lib\\site-packages\\tensorflow\\python\\eager\\execute.py\u001b[0m in \u001b[0;36mquick_execute\u001b[1;34m(op_name, num_outputs, inputs, attrs, ctx, name)\u001b[0m\n\u001b[0;32m     57\u001b[0m   \u001b[1;32mtry\u001b[0m\u001b[1;33m:\u001b[0m\u001b[1;33m\u001b[0m\u001b[1;33m\u001b[0m\u001b[0m\n\u001b[0;32m     58\u001b[0m     \u001b[0mctx\u001b[0m\u001b[1;33m.\u001b[0m\u001b[0mensure_initialized\u001b[0m\u001b[1;33m(\u001b[0m\u001b[1;33m)\u001b[0m\u001b[1;33m\u001b[0m\u001b[1;33m\u001b[0m\u001b[0m\n\u001b[1;32m---> 59\u001b[1;33m     tensors = pywrap_tfe.TFE_Py_Execute(ctx._handle, device_name, op_name,\n\u001b[0m\u001b[0;32m     60\u001b[0m                                         inputs, attrs, num_outputs)\n\u001b[0;32m     61\u001b[0m   \u001b[1;32mexcept\u001b[0m \u001b[0mcore\u001b[0m\u001b[1;33m.\u001b[0m\u001b[0m_NotOkStatusException\u001b[0m \u001b[1;32mas\u001b[0m \u001b[0me\u001b[0m\u001b[1;33m:\u001b[0m\u001b[1;33m\u001b[0m\u001b[1;33m\u001b[0m\u001b[0m\n",
      "\u001b[1;31mKeyboardInterrupt\u001b[0m: "
     ]
    }
   ],
   "source": [
    "model.fit(dataset, epochs=5, steps_per_epoch= 160/8)"
   ]
  },
  {
   "cell_type": "code",
   "execution_count": 29,
   "metadata": {},
   "outputs": [],
   "source": [
    "aut_test = []\n",
    "cnt_test = []"
   ]
  },
  {
   "cell_type": "code",
   "execution_count": 31,
   "metadata": {},
   "outputs": [
    {
     "name": "stdout",
     "output_type": "stream",
     "text": [
      "100anat.nii.gz\n",
      "158anat.nii.gz\n",
      "81anat.nii.gz\n",
      "82anat.nii.gz\n",
      "83anat.nii.gz\n",
      "84anat.nii.gz\n",
      "85anat.nii.gz\n",
      "86anat.nii.gz\n",
      "87anat.nii.gz\n",
      "88anat.nii.gz\n",
      "89anat.nii.gz\n",
      "90anat.nii.gz\n",
      "91anat.nii.gz\n",
      "92anat.nii.gz\n",
      "93anat.nii.gz\n",
      "94anat.nii.gz\n",
      "95anat.nii.gz\n",
      "96anat.nii.gz\n",
      "97anat.nii.gz\n",
      "98anat.nii.gz\n",
      "99anat.nii.gz\n",
      "100anat.nii.gz\n",
      "272anat.nii.gz\n",
      "81anat.nii.gz\n",
      "82anat.nii.gz\n",
      "83anat.nii.gz\n",
      "84anat.nii.gz\n",
      "85anat.nii.gz\n",
      "86anat.nii.gz\n",
      "87anat.nii.gz\n",
      "88anat.nii.gz\n",
      "89anat.nii.gz\n",
      "90anat.nii.gz\n",
      "91anat.nii.gz\n",
      "92anat.nii.gz\n",
      "93anat.nii.gz\n",
      "94anat.nii.gz\n",
      "95anat.nii.gz\n",
      "96anat.nii.gz\n",
      "97anat.nii.gz\n",
      "98anat.nii.gz\n",
      "99anat.nii.gz\n"
     ]
    }
   ],
   "source": [
    "for i in os.listdir(test_aut_path):\n",
    "    im = nib.load(test_aut_path+i).get_fdata()\n",
    "    #arr = to_arr(aut_path+i)\n",
    "    r = skTrans.resize(im, (150,200,150), order=1, preserve_range=True)#.reshape(150,200,150,1)\n",
    "    #print(r.shape)\n",
    "    #break\n",
    "    #if arr.shape[2] != 150:\n",
    "    #    #print(arr.shape)\n",
    "    #    arr = arr[:,:,46:-60]\n",
    "    print(i)\n",
    "    aut_test.append(r)\n",
    "for i in os.listdir(test_cnt_path): \n",
    "    #arr = to_arr(cnt_path+i)\n",
    "    #if arr.shape[2] != 150:\n",
    "    #    #print(arr.shape)\n",
    "    #    arr = arr[:,:,46:-60]\n",
    "    #    #print(arr.shape)\n",
    "    im = nib.load(test_cnt_path+i).get_fdata()\n",
    "    r = skTrans.resize(im, (150,200,150), order=1, preserve_range=True)#.reshape(150,200,150,1)\n",
    "    print(i)\n",
    "    cnt_test.append(r)\n",
    "    #cnts.append(to_arr(cnt_path+i).reshape(193,256, 256))"
   ]
  },
  {
   "cell_type": "code",
   "execution_count": 32,
   "metadata": {},
   "outputs": [],
   "source": [
    "aut_test = np.array(aut_test)"
   ]
  },
  {
   "cell_type": "code",
   "execution_count": 98,
   "metadata": {},
   "outputs": [
    {
     "data": {
      "text/plain": [
       "(21, 150, 200, 150)"
      ]
     },
     "execution_count": 98,
     "metadata": {},
     "output_type": "execute_result"
    }
   ],
   "source": [
    "aut_test.shape"
   ]
  },
  {
   "cell_type": "code",
   "execution_count": 34,
   "metadata": {},
   "outputs": [],
   "source": [
    "cnt_test = np.array(cnt_test)\n"
   ]
  },
  {
   "cell_type": "code",
   "execution_count": 99,
   "metadata": {},
   "outputs": [
    {
     "data": {
      "text/plain": [
       "(21, 150, 200, 150)"
      ]
     },
     "execution_count": 99,
     "metadata": {},
     "output_type": "execute_result"
    }
   ],
   "source": [
    "cnt_test.shape"
   ]
  },
  {
   "cell_type": "code",
   "execution_count": 137,
   "metadata": {},
   "outputs": [
    {
     "name": "stdout",
     "output_type": "stream",
     "text": [
      "0 False\n",
      "1 True\n",
      "2 True\n",
      "3 False\n",
      "4 False\n",
      "5 True\n",
      "6 False\n",
      "7 False\n",
      "8 True\n",
      "9 False\n",
      "10 False\n",
      "11 False\n",
      "12 True\n",
      "13 False\n",
      "14 False\n",
      "15 False\n",
      "16 False\n",
      "17 False\n",
      "18 False\n",
      "19 False\n",
      "20 False\n",
      "5 / 21\n"
     ]
    }
   ],
   "source": [
    "c = 0;\n",
    "for i in range(21):\n",
    "    test = tf.data.Dataset.from_tensors( aut_test[i] )   # tf.constant() does not change error\n",
    "    test = test.batch(1)\n",
    "    r = model.predict(test)\n",
    "    if np.argmax(r) == 0:\n",
    "        c+=1\n",
    "    print(i, np.argmax(r)==0)\n",
    "print(c,'/', 21)"
   ]
  },
  {
   "cell_type": "code",
   "execution_count": 138,
   "metadata": {},
   "outputs": [
    {
     "name": "stdout",
     "output_type": "stream",
     "text": [
      "0 True\n",
      "1 True\n",
      "2 True\n",
      "3 True\n",
      "4 True\n",
      "5 True\n",
      "6 True\n",
      "7 True\n",
      "8 False\n",
      "9 False\n",
      "10 True\n",
      "11 True\n",
      "12 False\n",
      "13 False\n",
      "14 True\n",
      "15 True\n",
      "16 True\n",
      "17 True\n",
      "18 False\n",
      "19 True\n",
      "20 False\n",
      "15 / 21\n"
     ]
    }
   ],
   "source": [
    "c = 0\n",
    "for i in range(21):\n",
    "    test = tf.data.Dataset.from_tensors( cnt_test[i] )   # tf.constant() does not change error\n",
    "    test = test.batch(1)\n",
    "    r = model.predict(test)\n",
    "    if np.argmax(r) == 1:\n",
    "        c+=1\n",
    "    print(i, np.argmax(r)==1)\n",
    "print(c, '/', 21)"
   ]
  },
  {
   "cell_type": "code",
   "execution_count": null,
   "metadata": {},
   "outputs": [],
   "source": []
  },
  {
   "cell_type": "code",
   "execution_count": 120,
   "metadata": {},
   "outputs": [
    {
     "name": "stdout",
     "output_type": "stream",
     "text": [
      "0 [[1.]]\n",
      "1 [[1.]]\n",
      "2 [[1.]]\n",
      "3 [[1.]]\n",
      "4 [[1.]]\n",
      "5 [[1.]]\n",
      "6 [[1.]]\n",
      "7 [[1.]]\n",
      "8 [[1.]]\n",
      "9 [[1.]]\n",
      "10 [[1.]]\n",
      "11 [[1.]]\n",
      "12 [[1.]]\n",
      "13 [[1.]]\n",
      "14 [[1.]]\n",
      "15 [[1.]]\n",
      "16 [[1.]]\n",
      "17 [[1.]]\n",
      "18 [[1.]]\n",
      "19 [[1.]]\n",
      "20 [[1.]]\n",
      "21 [[1.]]\n",
      "22 [[1.]]\n",
      "23 [[0.9996703]]\n",
      "24 [[1.]]\n",
      "25 [[1.]]\n",
      "26 [[1.]]\n",
      "27 [[1.]]\n",
      "28 [[1.]]\n",
      "29 [[1.]]\n",
      "30 [[1.]]\n",
      "31 [[1.]]\n",
      "32 [[1.]]\n",
      "33 [[1.]]\n",
      "34 [[1.]]\n",
      "35 [[1.]]\n",
      "36 [[1.]]\n",
      "37 [[1.]]\n",
      "38 [[1.]]\n",
      "39 [[1.]]\n",
      "40 [[1.]]\n",
      "41 [[1.]]\n",
      "42 [[1.]]\n",
      "43 [[1.]]\n",
      "44 [[1.]]\n",
      "45 [[1.]]\n",
      "46 [[1.]]\n",
      "47 [[1.]]\n",
      "48 [[1.]]\n",
      "49 [[1.]]\n",
      "50 [[1.]]\n",
      "51 [[1.]]\n",
      "52 [[1.]]\n",
      "53 [[1.]]\n",
      "54 [[1.]]\n",
      "55 [[1.]]\n",
      "56 [[1.]]\n",
      "57 [[1.]]\n",
      "58 [[1.]]\n",
      "59 [[1.]]\n",
      "60 [[1.]]\n",
      "61 [[1.]]\n",
      "62 [[1.]]\n",
      "63 [[1.]]\n",
      "64 [[1.]]\n",
      "65 [[1.]]\n",
      "66 [[1.]]\n",
      "67 [[1.]]\n",
      "68 [[2.885616e-07]]\n",
      "69 [[1.]]\n",
      "70 [[1.]]\n",
      "71 [[1.]]\n",
      "72 [[1.]]\n",
      "73 [[1.]]\n",
      "74 [[1.]]\n",
      "75 [[1.]]\n",
      "76 [[1.]]\n",
      "77 [[1.]]\n",
      "78 [[1.]]\n",
      "79 [[1.]]\n",
      "80 [[1.]]\n",
      "81 [[1.]]\n",
      "82 [[1.]]\n",
      "83 [[1.]]\n",
      "84 [[1.]]\n",
      "85 [[1.]]\n",
      "86 [[1.]]\n",
      "87 [[1.]]\n",
      "88 [[1.]]\n",
      "89 [[1.]]\n",
      "90 [[1.]]\n",
      "91 [[1.]]\n",
      "92 [[1.]]\n",
      "93 [[1.]]\n",
      "94 [[1.]]\n",
      "95 [[1.]]\n",
      "96 [[1.]]\n",
      "97 [[1.]]\n",
      "98 [[1.]]\n",
      "99 [[1.]]\n",
      "100 [[1.]]\n",
      "101 [[1.]]\n",
      "102 [[1.]]\n",
      "103 [[1.]]\n",
      "104 [[1.]]\n",
      "105 [[1.]]\n",
      "106 [[1.]]\n",
      "107 [[1.]]\n",
      "108 [[1.]]\n",
      "109 [[1.]]\n",
      "110 [[1.]]\n",
      "111 [[1.]]\n",
      "112 [[1.]]\n",
      "113 [[1.]]\n",
      "114 [[1.]]\n",
      "115 [[1.]]\n",
      "116 [[1.]]\n",
      "117 [[1.]]\n",
      "118 [[1.]]\n",
      "119 [[1.]]\n",
      "120 [[1.]]\n",
      "121 [[1.]]\n",
      "122 [[1.]]\n",
      "123 [[1.]]\n",
      "124 [[1.]]\n",
      "125 [[1.]]\n",
      "126 [[1.]]\n",
      "127 [[1.]]\n",
      "128 [[1.]]\n",
      "129 [[1.]]\n",
      "130 [[1.]]\n",
      "131 [[1.]]\n",
      "132 [[1.]]\n",
      "133 [[1.]]\n",
      "134 [[1.]]\n",
      "135 [[1.]]\n",
      "136 [[1.]]\n",
      "137 [[1.]]\n",
      "138 [[1.]]\n",
      "139 [[1.]]\n",
      "140 [[1.]]\n",
      "141 [[1.]]\n",
      "142 [[1.]]\n",
      "143 [[1.]]\n",
      "144 [[1.]]\n",
      "145 [[1.]]\n",
      "146 [[1.]]\n",
      "147 [[1.]]\n",
      "148 [[1.]]\n",
      "149 [[1.]]\n",
      "150 [[1.]]\n",
      "151 [[1.]]\n",
      "152 [[1.]]\n",
      "153 [[1.]]\n",
      "154 [[1.]]\n",
      "155 [[1.]]\n",
      "156 [[1.]]\n",
      "157 [[1.]]\n",
      "158 [[1.]]\n",
      "159 [[1.]]\n"
     ]
    }
   ],
   "source": [
    "for i in range(160):\n",
    "    test = tf.data.Dataset.from_tensors( images[i] )   # tf.constant() does not change error\n",
    "    test = test.batch(1)\n",
    "    r = model.predict(test)\n",
    "    print(i, r)"
   ]
  },
  {
   "cell_type": "code",
   "execution_count": 1,
   "metadata": {},
   "outputs": [
    {
     "ename": "NameError",
     "evalue": "name 'tf' is not defined",
     "output_type": "error",
     "traceback": [
      "\u001b[1;31m---------------------------------------------------------------------------\u001b[0m",
      "\u001b[1;31mNameError\u001b[0m                                 Traceback (most recent call last)",
      "\u001b[1;32m<ipython-input-1-0aef508e4796>\u001b[0m in \u001b[0;36m<module>\u001b[1;34m\u001b[0m\n\u001b[1;32m----> 1\u001b[1;33m \u001b[0mdataset\u001b[0m \u001b[1;33m=\u001b[0m \u001b[0mtf\u001b[0m\u001b[1;33m.\u001b[0m\u001b[0mdata\u001b[0m\u001b[1;33m.\u001b[0m\u001b[0mDataset\u001b[0m\u001b[1;33m.\u001b[0m\u001b[0mfrom_tensor_slices\u001b[0m\u001b[1;33m(\u001b[0m \u001b[1;33m(\u001b[0m \u001b[0mimages\u001b[0m\u001b[1;33m,\u001b[0m \u001b[0mlabels\u001b[0m \u001b[1;33m)\u001b[0m \u001b[1;33m)\u001b[0m   \u001b[1;31m# tf.constant() does not change error\u001b[0m\u001b[1;33m\u001b[0m\u001b[1;33m\u001b[0m\u001b[0m\n\u001b[0m\u001b[0;32m      2\u001b[0m \u001b[0mdataset\u001b[0m \u001b[1;33m=\u001b[0m \u001b[0mdataset\u001b[0m\u001b[1;33m.\u001b[0m\u001b[0mbatch\u001b[0m\u001b[1;33m(\u001b[0m\u001b[1;36m4\u001b[0m\u001b[1;33m)\u001b[0m\u001b[1;33m\u001b[0m\u001b[1;33m\u001b[0m\u001b[0m\n",
      "\u001b[1;31mNameError\u001b[0m: name 'tf' is not defined"
     ]
    }
   ],
   "source": [
    "dataset = tf.data.Dataset.from_tensor_slices( ( images, labels ) )   # tf.constant() does not change error\n",
    "dataset = dataset.batch(4)"
   ]
  },
  {
   "cell_type": "code",
   "execution_count": 283,
   "metadata": {},
   "outputs": [
    {
     "data": {
      "text/plain": [
       "numpy.ndarray"
      ]
     },
     "execution_count": 283,
     "metadata": {},
     "output_type": "execute_result"
    }
   ],
   "source": [
    "dataset = model.predict(dataset)\n",
    "#print(len(ans))\n",
    "#for images, labels in dataset.take(160):  # only take first element of dataset\n",
    "#    numpy_images = images.numpy()\n",
    "#    numpy_labels = labels.numpy()\n",
    "#    print(numpy_labels)"
   ]
  },
  {
   "cell_type": "code",
   "execution_count": 140,
   "metadata": {},
   "outputs": [],
   "source": [
    "auts = []\n",
    "cnts = []\n",
    "\n",
    "for i in os.listdir(test_auth_path):\n",
    "    arr = to_arr(test_auth_path+i)\n",
    "    if arr.shape[2] != 150:\n",
    "        #print(arr.shape)\n",
    "        arr = arr[:,:,46:-60]\n",
    "    auts.append( tf.image.resize(arr, [150,200]).numpy() )\n",
    "    #auts.append(to_arr(aut_path+i).reshape(193,256,256))\n",
    "for i in os.listdir(test_cnt_path): \n",
    "    arr = to_arr(test_cnt_path+i)\n",
    "    if arr.shape[2] != 150:\n",
    "        #print(arr.shape)\n",
    "        arr = arr[:,:,46:-60]\n",
    "        #print(arr.shape)\n",
    "    cnts.append( tf.image.resize(arr, [150,200]).numpy() )\n",
    "    #cnts.append(to_arr(cnt_path+i).reshape(193,256, 256))"
   ]
  },
  {
   "cell_type": "code",
   "execution_count": 141,
   "metadata": {},
   "outputs": [],
   "source": [
    "auts = np.array(auts)\n",
    "cnts = np.array(cnts)"
   ]
  },
  {
   "cell_type": "code",
   "execution_count": 142,
   "metadata": {},
   "outputs": [
    {
     "data": {
      "text/plain": [
       "(21, 150, 200, 150)"
      ]
     },
     "execution_count": 142,
     "metadata": {},
     "output_type": "execute_result"
    }
   ],
   "source": [
    "auts.shape"
   ]
  },
  {
   "cell_type": "code",
   "execution_count": 143,
   "metadata": {},
   "outputs": [
    {
     "data": {
      "text/plain": [
       "(21, 150, 200, 150)"
      ]
     },
     "execution_count": 143,
     "metadata": {},
     "output_type": "execute_result"
    }
   ],
   "source": [
    "cnts.shape"
   ]
  },
  {
   "cell_type": "code",
   "execution_count": 144,
   "metadata": {},
   "outputs": [],
   "source": [
    "images = np.concatenate([auts, cnts])"
   ]
  },
  {
   "cell_type": "code",
   "execution_count": 145,
   "metadata": {},
   "outputs": [
    {
     "data": {
      "text/plain": [
       "(42, 150, 200, 150)"
      ]
     },
     "execution_count": 145,
     "metadata": {},
     "output_type": "execute_result"
    }
   ],
   "source": [
    "images.shape"
   ]
  },
  {
   "cell_type": "code",
   "execution_count": 146,
   "metadata": {},
   "outputs": [],
   "source": [
    "test = tf.data.Dataset.from_tensor_slices( ( images, test_labels ) )   # tf.constant() does not change error\n",
    "test = test.batch(1)"
   ]
  },
  {
   "cell_type": "code",
   "execution_count": 147,
   "metadata": {},
   "outputs": [
    {
     "data": {
      "text/plain": [
       "<BatchDataset shapes: ((None, 150, 200, 150), (None,)), types: (tf.float32, tf.int32)>"
      ]
     },
     "execution_count": 147,
     "metadata": {},
     "output_type": "execute_result"
    }
   ],
   "source": [
    "test"
   ]
  },
  {
   "cell_type": "code",
   "execution_count": 148,
   "metadata": {},
   "outputs": [
    {
     "name": "stdout",
     "output_type": "stream",
     "text": [
      "0\n",
      "0\n",
      "0\n",
      "0\n",
      "0\n",
      "0\n",
      "0\n",
      "0\n",
      "0\n",
      "0\n",
      "0\n",
      "0\n",
      "0\n",
      "0\n",
      "0\n",
      "0\n",
      "0\n",
      "0\n",
      "0\n",
      "0\n",
      "0\n",
      "0\n",
      "0\n",
      "0\n",
      "0\n",
      "0\n",
      "0\n",
      "0\n",
      "0\n",
      "0\n",
      "0\n",
      "0\n",
      "0\n",
      "0\n",
      "0\n",
      "0\n",
      "0\n",
      "0\n",
      "0\n",
      "0\n",
      "0\n",
      "0\n"
     ]
    }
   ],
   "source": [
    "ans = model.predict(test)\n",
    "for i in ans:\n",
    "    print(np.argmax(ans))"
   ]
  },
  {
   "cell_type": "code",
   "execution_count": null,
   "metadata": {
    "colab": {
     "base_uri": "https://localhost:8080/"
    },
    "id": "C_Dx2YoZvA9c",
    "outputId": "a36f5170-b5d6-4a38-a8e3-a9a4b6633f7c"
   },
   "outputs": [],
   "source": [
    "for i in range(400*2):\n",
    "  test = tf.data.Dataset.from_tensors( images[i] )   # tf.constant() does not change error\n",
    "  test = test.batch(1)\n",
    "  r = model.predict(test)\n",
    "  print(i, np.argmax(r))"
   ]
  },
  {
   "cell_type": "code",
   "execution_count": null,
   "metadata": {
    "colab": {
     "base_uri": "https://localhost:8080/"
    },
    "id": "NfPrUHJ0vcOk",
    "outputId": "8697326f-1781-43a6-9675-e96579e04ac9"
   },
   "outputs": [],
   "source": [
    "a = np.array([1,0])\n",
    "np.argmax(a)"
   ]
  },
  {
   "cell_type": "code",
   "execution_count": null,
   "metadata": {
    "colab": {
     "base_uri": "https://localhost:8080/"
    },
    "id": "iqpAzx1ZveKs",
    "outputId": "f1d9d2ac-b0bf-4b35-d109-3b7aaae7a674"
   },
   "outputs": [],
   "source": [
    "train, test = tf.keras.datasets.fashion_mnist.load_data()"
   ]
  },
  {
   "cell_type": "code",
   "execution_count": null,
   "metadata": {
    "id": "ORltiCADET7a"
   },
   "outputs": [],
   "source": [
    "#images, labels = train\n",
    "#images = images/255\n",
    "\n",
    "dataset = tf.data.Dataset.from_tensor_slices((images, labels))\n",
    "dataset = dataset.cache()"
   ]
  },
  {
   "cell_type": "code",
   "execution_count": null,
   "metadata": {
    "colab": {
     "base_uri": "https://localhost:8080/"
    },
    "id": "Q_a8YMJEEYji",
    "outputId": "448ab251-f489-4631-dd6e-50d989326876"
   },
   "outputs": [],
   "source": [
    "labels.shape"
   ]
  },
  {
   "cell_type": "code",
   "execution_count": null,
   "metadata": {
    "id": "p5vDA3N-EbRy"
   },
   "outputs": [],
   "source": [
    "from matplotlib import pyplot as plt"
   ]
  },
  {
   "cell_type": "code",
   "execution_count": null,
   "metadata": {
    "id": "v41_6wCFJOsy"
   },
   "outputs": [],
   "source": [
    "for img, label in dataset.take(460):\n",
    "  test_images = img.numpy()\n",
    "  test_labels = label.numpy()\n",
    "  #print(test_images.shape)\n",
    "  #print(test_labels.shape)"
   ]
  },
  {
   "cell_type": "code",
   "execution_count": null,
   "metadata": {
    "colab": {
     "base_uri": "https://localhost:8080/"
    },
    "id": "lMzpnUTiJQI6",
    "outputId": "3b814ecf-0e9f-4427-f588-8537935c3e36"
   },
   "outputs": [],
   "source": [
    "test_labels"
   ]
  },
  {
   "cell_type": "code",
   "execution_count": null,
   "metadata": {
    "colab": {
     "base_uri": "https://localhost:8080/"
    },
    "id": "QxiV5rG9O-L1",
    "outputId": "d1bde48c-afd5-4bd2-8f13-d636c9e199a4"
   },
   "outputs": [],
   "source": [
    "test_images.shape"
   ]
  },
  {
   "cell_type": "code",
   "execution_count": null,
   "metadata": {
    "colab": {
     "base_uri": "https://localhost:8080/",
     "height": 301
    },
    "id": "5SNu0MsvJzhC",
    "outputId": "37f97fff-3506-433a-eac2-fe99bae16478"
   },
   "outputs": [],
   "source": [
    "plt.imshow(test_images.reshape(28,28))\n",
    "print(test_labels)\n",
    "print('prediction:',model.predict(images[90].reshape(1,28,28,1)))"
   ]
  },
  {
   "cell_type": "code",
   "execution_count": null,
   "metadata": {
    "colab": {
     "base_uri": "https://localhost:8080/"
    },
    "id": "9RN8NrxMKDJ5",
    "outputId": "a7e5bbd6-1750-41d7-a057-07d0811f23bb"
   },
   "outputs": [],
   "source": [
    "for i in range(126):\n",
    "  print(labels[i], \" >>\", model.predict( images[i].reshape(1, 28,28,1) ))"
   ]
  },
  {
   "cell_type": "code",
   "execution_count": null,
   "metadata": {
    "colab": {
     "base_uri": "https://localhost:8080/",
     "height": 171
    },
    "id": "MnotZLMmMc2q",
    "outputId": "67dcb255-1fa2-4e01-d865-ea562a846df1"
   },
   "outputs": [],
   "source": [
    "img, label = dataset.take(1)"
   ]
  },
  {
   "cell_type": "code",
   "execution_count": 55,
   "metadata": {
    "id": "ksrYdr1nNBrK"
   },
   "outputs": [
    {
     "ename": "ModuleNotFoundError",
     "evalue": "No module named 'nilearn'",
     "output_type": "error",
     "traceback": [
      "\u001b[1;31m---------------------------------------------------------------------------\u001b[0m",
      "\u001b[1;31mModuleNotFoundError\u001b[0m                       Traceback (most recent call last)",
      "\u001b[1;32m<ipython-input-55-cad3e4c886e9>\u001b[0m in \u001b[0;36m<module>\u001b[1;34m\u001b[0m\n\u001b[1;32m----> 1\u001b[1;33m \u001b[1;32mfrom\u001b[0m \u001b[0mnilearn\u001b[0m \u001b[1;32mimport\u001b[0m \u001b[0mplotting\u001b[0m\u001b[1;33m\u001b[0m\u001b[1;33m\u001b[0m\u001b[0m\n\u001b[0m",
      "\u001b[1;31mModuleNotFoundError\u001b[0m: No module named 'nilearn'"
     ]
    }
   ],
   "source": []
  },
  {
   "cell_type": "code",
   "execution_count": null,
   "metadata": {},
   "outputs": [],
   "source": []
  }
 ],
 "metadata": {
  "accelerator": "GPU",
  "colab": {
   "collapsed_sections": [],
   "name": "Untitled3.ipynb",
   "provenance": []
  },
  "kernelspec": {
   "display_name": "Python 3",
   "language": "python",
   "name": "python3"
  },
  "language_info": {
   "codemirror_mode": {
    "name": "ipython",
    "version": 3
   },
   "file_extension": ".py",
   "mimetype": "text/x-python",
   "name": "python",
   "nbconvert_exporter": "python",
   "pygments_lexer": "ipython3",
   "version": "3.8.6"
  }
 },
 "nbformat": 4,
 "nbformat_minor": 4
}
